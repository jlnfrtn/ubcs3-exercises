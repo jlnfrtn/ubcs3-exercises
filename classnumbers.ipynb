{
 "cells": [
  {
   "cell_type": "markdown",
   "metadata": {},
   "source": [
    "### Completing the proof of a bound on class numbers of quadratic imaginary fields\n",
    "In Joseph Oesterle's 1984 paper [Nombres de classes des corps quadratiques imaginaires](http://archive.numdam.org/ARCHIVE/SB/SB_1983-1984__26_/SB_1983-1984__26__309_0/SB_1983-1984__26__309_0.pdf) the author calculates a constant $C>0$ such that $$\\prod_{p\\in P(d)}(1-\\frac{\\lfloor 2\\sqrt p\\rfloor}{p+1})\\log d \\leq Ch(-d)$$ for any $d\\in \\mathbb{N}$ and where $P(d)$ is the set of primes dividing $d,$ excluding the largest divisor.\n",
    "\n",
    "The following graphs from the [Online Encyclopedia of Integer Sequences](http://oeis.org/A006641) represent the class number of imaginary quadratic field with discrminant -[A003657](oeis.org/A003657)(n) ![Plots](http://oi67.tinypic.com/dypsf6.jpg)\n",
    "\n",
    "If $d$ is prime then the inequality above reduces to $$\\log d \\leq Ch(-d)$$. To see which discriminants have class number one, we then look for $d$ satisfying $$\\log d \\leq C$$. The calculation of this constant $C$ is not included in the paper, but may supposedly be taken to be $55$, and so we know the largest $d$ may be to while having class number one is $e^{55}~\\sim 7.6x10^{23}$. It turns out that the set of discriminants with class number one is $\\{ 3,4,7,8,11,19,43,67,163\\}$. Below we use Algorithm 5.3.5 from Henri Cohen's 'A course in computational algebraic number theory' to compute the class number of $\\mathbb{Q}(\\sqrt 3)$: "
   ]
  },
  {
   "cell_type": "code",
   "execution_count": 88,
   "metadata": {
    "collapsed": false
   },
   "outputs": [
    {
     "name": "stdout",
     "output_type": "stream",
     "text": [
      "What discriminant?-59\n",
      "Class number 7\n"
     ]
    }
   ],
   "source": [
    "import math\n",
    "def initializeb():\n",
    "    h=1\n",
    "    b=D%2\n",
    "    B=math.floor(math.sqrt(math.fabs(D)/3))\n",
    "    initializea(b)\n",
    "    \n",
    "\n",
    "def initializea(b):\n",
    "    q=int((b^2-D)/4)\n",
    "    a=b\n",
    "    \n",
    "\n",
    "    if a <= 1:\n",
    "        a=1\n",
    "        loopona(a,q,h,b)\n",
    "    \n",
    "    \n",
    "def test(a,q,h,b):        \n",
    "    if q%a==0:\n",
    "        if a==b or a*a==q or b==0:\n",
    "            h=h+1\n",
    "        else:\n",
    "            h=h+2    \n",
    "    loopona(a,q,h,b)\n",
    "\n",
    "def loopona(a,q,h,b):\n",
    "    a=a+1\n",
    "    if a^2<=q:\n",
    "        \n",
    "        test(a,q,h,b)        \n",
    "    else:\n",
    "        \n",
    "        looponb(a,b,q,h)\n",
    "    \n",
    "\n",
    "def looponb(a, b,q, h):\n",
    "    b=b+2\n",
    "\n",
    "    if b<= B:\n",
    "        initializea(b)\n",
    "    else:\n",
    "        print ('Class number', h)\n",
    "    \n",
    "    \n",
    "D=int(input('What discriminant?'))\n",
    "    \n",
    "initializeb()\n"
   ]
  },
  {
   "cell_type": "code",
   "execution_count": null,
   "metadata": {
    "collapsed": true
   },
   "outputs": [],
   "source": []
  },
  {
   "cell_type": "code",
   "execution_count": null,
   "metadata": {
    "collapsed": true
   },
   "outputs": [],
   "source": []
  }
 ],
 "metadata": {
  "kernelspec": {
   "display_name": "Python 3",
   "language": "python",
   "name": "python3"
  },
  "language_info": {
   "codemirror_mode": {
    "name": "ipython",
    "version": 3
   },
   "file_extension": ".py",
   "mimetype": "text/x-python",
   "name": "python",
   "nbconvert_exporter": "python",
   "pygments_lexer": "ipython3",
   "version": "3.5.1"
  }
 },
 "nbformat": 4,
 "nbformat_minor": 0
}
